{
 "cells": [
  {
   "cell_type": "code",
   "execution_count": 7,
   "id": "b99da1a0",
   "metadata": {},
   "outputs": [
    {
     "name": "stdout",
     "output_type": "stream",
     "text": [
      "8+2+3+0+7=20\n"
     ]
    }
   ],
   "source": [
    "sample = (8,2,3,0,7)\n",
    "sample_in_str = []\n",
    "for i in sample:\n",
    "    sample_in_str.append(str(i))\n",
    "    lhs = '+'.join(sample_in_str)\n",
    "    rhs = sum(sample)\n",
    "print(lhs+ '=' +str(rhs))\n"
   ]
  },
  {
   "cell_type": "code",
   "execution_count": null,
   "id": "cd795be4",
   "metadata": {},
   "outputs": [],
   "source": []
  }
 ],
 "metadata": {
  "kernelspec": {
   "display_name": "Python 3 (ipykernel)",
   "language": "python",
   "name": "python3"
  },
  "language_info": {
   "codemirror_mode": {
    "name": "ipython",
    "version": 3
   },
   "file_extension": ".py",
   "mimetype": "text/x-python",
   "name": "python",
   "nbconvert_exporter": "python",
   "pygments_lexer": "ipython3",
   "version": "3.10.0"
  }
 },
 "nbformat": 4,
 "nbformat_minor": 5
}
