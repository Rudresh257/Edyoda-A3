{
 "cells": [
  {
   "cell_type": "code",
   "execution_count": 3,
   "id": "e2b37199",
   "metadata": {},
   "outputs": [
    {
     "name": "stdout",
     "output_type": "stream",
     "text": [
      "Enter the string\n",
      "The quick Brow Fox\n",
      "No. of Upper case characters: 3\n",
      "No. of Lower case characters: 12\n"
     ]
    }
   ],
   "source": [
    "str= input(\"Enter the string\\n\")\n",
    "upper,lower=0,0\n",
    "for i in range (len(str)):\n",
    "    if (ord(str[i])>=65 and ord(str[i])<=90):\n",
    "        upper=upper+1\n",
    "    elif (ord(str[i])>=97 and ord(str[i])<=122):\n",
    "        lower=lower+1\n",
    "print(\"No. of Upper case characters:\",upper)\n",
    "print(\"No. of Lower case characters:\",lower)\n",
    "        "
   ]
  },
  {
   "cell_type": "code",
   "execution_count": null,
   "id": "32711c3e",
   "metadata": {},
   "outputs": [],
   "source": []
  }
 ],
 "metadata": {
  "kernelspec": {
   "display_name": "Python 3 (ipykernel)",
   "language": "python",
   "name": "python3"
  },
  "language_info": {
   "codemirror_mode": {
    "name": "ipython",
    "version": 3
   },
   "file_extension": ".py",
   "mimetype": "text/x-python",
   "name": "python",
   "nbconvert_exporter": "python",
   "pygments_lexer": "ipython3",
   "version": "3.10.0"
  }
 },
 "nbformat": 4,
 "nbformat_minor": 5
}
